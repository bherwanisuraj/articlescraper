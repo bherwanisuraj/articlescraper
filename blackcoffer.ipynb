{
 "cells": [
  {
   "cell_type": "markdown",
   "source": [
    "Blackcoffer\n",
    "Data Extraction and NLP\n"
   ],
   "metadata": {
    "collapsed": false
   }
  },
  {
   "cell_type": "markdown",
   "source": [
    "##Importing Libraries"
   ],
   "metadata": {
    "collapsed": false
   }
  },
  {
   "cell_type": "code",
   "execution_count": 3,
   "outputs": [],
   "source": [
    "import numpy as np\n",
    "import pandas as pd\n",
    "import matplotlib.pyplot as plt"
   ],
   "metadata": {
    "collapsed": false,
    "ExecuteTime": {
     "end_time": "2023-12-29T05:09:57.567157900Z",
     "start_time": "2023-12-29T05:09:56.995839700Z"
    }
   }
  },
  {
   "cell_type": "markdown",
   "source": [
    "#1. Objective\n",
    "The objective of this assignment is to extract textual data articles from the given URL and perform text analysis to compute variables that are explained below."
   ],
   "metadata": {
    "collapsed": false
   }
  },
  {
   "cell_type": "markdown",
   "source": [
    "#2. Data Extraction"
   ],
   "metadata": {
    "collapsed": false
   }
  },
  {
   "cell_type": "code",
   "execution_count": 6,
   "outputs": [],
   "source": [
    "input = pd.read_excel(r'links/Input.xlsx')"
   ],
   "metadata": {
    "collapsed": false,
    "ExecuteTime": {
     "end_time": "2023-12-29T05:20:35.413473400Z",
     "start_time": "2023-12-29T05:20:35.176008200Z"
    }
   }
  },
  {
   "cell_type": "code",
   "execution_count": 14,
   "outputs": [
    {
     "data": {
      "text/plain": "             URL_ID                                                URL\n0   blackassign0001  https://insights.blackcoffer.com/rising-it-cit...\n1   blackassign0002  https://insights.blackcoffer.com/rising-it-cit...\n2   blackassign0003  https://insights.blackcoffer.com/internet-dema...\n3   blackassign0004  https://insights.blackcoffer.com/rise-of-cyber...\n4   blackassign0005  https://insights.blackcoffer.com/ott-platform-...\n..              ...                                                ...\n95  blackassign0096  https://insights.blackcoffer.com/what-is-the-r...\n96  blackassign0097  https://insights.blackcoffer.com/impact-of-cov...\n97  blackassign0098  https://insights.blackcoffer.com/contribution-...\n98  blackassign0099  https://insights.blackcoffer.com/how-covid-19-...\n99  blackassign0100  https://insights.blackcoffer.com/how-will-covi...\n\n[100 rows x 2 columns]",
      "text/html": "<div>\n<style scoped>\n    .dataframe tbody tr th:only-of-type {\n        vertical-align: middle;\n    }\n\n    .dataframe tbody tr th {\n        vertical-align: top;\n    }\n\n    .dataframe thead th {\n        text-align: right;\n    }\n</style>\n<table border=\"1\" class=\"dataframe\">\n  <thead>\n    <tr style=\"text-align: right;\">\n      <th></th>\n      <th>URL_ID</th>\n      <th>URL</th>\n    </tr>\n  </thead>\n  <tbody>\n    <tr>\n      <th>0</th>\n      <td>blackassign0001</td>\n      <td>https://insights.blackcoffer.com/rising-it-cit...</td>\n    </tr>\n    <tr>\n      <th>1</th>\n      <td>blackassign0002</td>\n      <td>https://insights.blackcoffer.com/rising-it-cit...</td>\n    </tr>\n    <tr>\n      <th>2</th>\n      <td>blackassign0003</td>\n      <td>https://insights.blackcoffer.com/internet-dema...</td>\n    </tr>\n    <tr>\n      <th>3</th>\n      <td>blackassign0004</td>\n      <td>https://insights.blackcoffer.com/rise-of-cyber...</td>\n    </tr>\n    <tr>\n      <th>4</th>\n      <td>blackassign0005</td>\n      <td>https://insights.blackcoffer.com/ott-platform-...</td>\n    </tr>\n    <tr>\n      <th>...</th>\n      <td>...</td>\n      <td>...</td>\n    </tr>\n    <tr>\n      <th>95</th>\n      <td>blackassign0096</td>\n      <td>https://insights.blackcoffer.com/what-is-the-r...</td>\n    </tr>\n    <tr>\n      <th>96</th>\n      <td>blackassign0097</td>\n      <td>https://insights.blackcoffer.com/impact-of-cov...</td>\n    </tr>\n    <tr>\n      <th>97</th>\n      <td>blackassign0098</td>\n      <td>https://insights.blackcoffer.com/contribution-...</td>\n    </tr>\n    <tr>\n      <th>98</th>\n      <td>blackassign0099</td>\n      <td>https://insights.blackcoffer.com/how-covid-19-...</td>\n    </tr>\n    <tr>\n      <th>99</th>\n      <td>blackassign0100</td>\n      <td>https://insights.blackcoffer.com/how-will-covi...</td>\n    </tr>\n  </tbody>\n</table>\n<p>100 rows × 2 columns</p>\n</div>"
     },
     "execution_count": 14,
     "metadata": {},
     "output_type": "execute_result"
    }
   ],
   "source": [
    "a = input['URL']"
   ],
   "metadata": {
    "collapsed": false,
    "ExecuteTime": {
     "end_time": "2023-12-29T05:22:23.594843500Z",
     "start_time": "2023-12-29T05:22:23.592462400Z"
    }
   }
  },
  {
   "cell_type": "code",
   "execution_count": 10,
   "outputs": [
    {
     "data": {
      "text/plain": "0     https://insights.blackcoffer.com/rising-it-cit...\n1     https://insights.blackcoffer.com/rising-it-cit...\n2     https://insights.blackcoffer.com/internet-dema...\n3     https://insights.blackcoffer.com/rise-of-cyber...\n4     https://insights.blackcoffer.com/ott-platform-...\n                            ...                        \n95    https://insights.blackcoffer.com/what-is-the-r...\n96    https://insights.blackcoffer.com/impact-of-cov...\n97    https://insights.blackcoffer.com/contribution-...\n98    https://insights.blackcoffer.com/how-covid-19-...\n99    https://insights.blackcoffer.com/how-will-covi...\nName: URL, Length: 100, dtype: object"
     },
     "execution_count": 10,
     "metadata": {},
     "output_type": "execute_result"
    }
   ],
   "source": [
    "a"
   ],
   "metadata": {
    "collapsed": false,
    "ExecuteTime": {
     "end_time": "2023-12-29T05:21:42.830194800Z",
     "start_time": "2023-12-29T05:21:42.827189200Z"
    }
   }
  },
  {
   "cell_type": "code",
   "execution_count": 13,
   "outputs": [
    {
     "data": {
      "text/plain": "pandas.core.series.Series"
     },
     "execution_count": 13,
     "metadata": {},
     "output_type": "execute_result"
    }
   ],
   "source": [
    "type(a)"
   ],
   "metadata": {
    "collapsed": false,
    "ExecuteTime": {
     "end_time": "2023-12-29T05:21:58.680789500Z",
     "start_time": "2023-12-29T05:21:58.677056900Z"
    }
   }
  },
  {
   "cell_type": "code",
   "execution_count": null,
   "outputs": [],
   "source": [],
   "metadata": {
    "collapsed": false
   }
  }
 ],
 "metadata": {
  "kernelspec": {
   "display_name": "Python 3",
   "language": "python",
   "name": "python3"
  },
  "language_info": {
   "codemirror_mode": {
    "name": "ipython",
    "version": 2
   },
   "file_extension": ".py",
   "mimetype": "text/x-python",
   "name": "python",
   "nbconvert_exporter": "python",
   "pygments_lexer": "ipython2",
   "version": "2.7.6"
  }
 },
 "nbformat": 4,
 "nbformat_minor": 0
}
